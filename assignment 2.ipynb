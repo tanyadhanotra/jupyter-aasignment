{
 "cells": [
  {
   "cell_type": "code",
   "execution_count": 3,
   "id": "1d6d42af-aba1-447a-8d77-9c325db8d008",
   "metadata": {},
   "outputs": [],
   "source": [
    "# Q1"
   ]
  },
  {
   "cell_type": "code",
   "execution_count": 6,
   "id": "1a362313-9e79-43bc-99ab-96e93406f888",
   "metadata": {},
   "outputs": [],
   "source": [
    "# ANS. - There are two types of comments in python code. 1. - starting a line with hash (#) \n",
    "#                                                         2. - by putting triple quotes (''') or (\"\"\") at the beginning and end of the line or lines."
   ]
  },
  {
   "cell_type": "code",
   "execution_count": 7,
   "id": "578975f7-18d4-4ca2-95e7-b540da2fbea8",
   "metadata": {},
   "outputs": [],
   "source": [
    "# Q2 "
   ]
  },
  {
   "cell_type": "code",
   "execution_count": 8,
   "id": "af025747-0fff-4bfb-8d64-d3b5fbe3796a",
   "metadata": {},
   "outputs": [],
   "source": [
    "# ANS. - Variables are used to store values and data in python . it can consists of letters, numbers, underscore but it doesn't consists of special characters and does not start with numbers.\n",
    "#   FOR EXAMPLE - "
   ]
  },
  {
   "cell_type": "code",
   "execution_count": 9,
   "id": "53d48a76-01bc-4a15-9331-ac00438b85ae",
   "metadata": {},
   "outputs": [],
   "source": [
    "A = 'APPLE'"
   ]
  },
  {
   "cell_type": "code",
   "execution_count": 10,
   "id": "0cc59fa8-c43a-460a-8bba-fa09decb81d6",
   "metadata": {},
   "outputs": [],
   "source": [
    "_ = 78"
   ]
  },
  {
   "cell_type": "code",
   "execution_count": 14,
   "id": "c6191b3b-a1c9-457a-a0ba-d08ebcb7ec22",
   "metadata": {},
   "outputs": [],
   "source": [
    "A_ = 45"
   ]
  },
  {
   "cell_type": "code",
   "execution_count": 17,
   "id": "cf54271c-a280-4485-800d-9f78ec06577d",
   "metadata": {},
   "outputs": [],
   "source": [
    "_2 = 56"
   ]
  },
  {
   "cell_type": "code",
   "execution_count": 15,
   "id": "24a4d831-6975-443e-936f-ad3a41214de0",
   "metadata": {},
   "outputs": [],
   "source": [
    "# Q3 "
   ]
  },
  {
   "cell_type": "code",
   "execution_count": 18,
   "id": "e8b58e39-925e-44aa-b429-ad5f68900f94",
   "metadata": {},
   "outputs": [],
   "source": [
    "x = '45'"
   ]
  },
  {
   "cell_type": "code",
   "execution_count": 19,
   "id": "5ccf1414-177f-4a8e-8895-bc1beed122e2",
   "metadata": {},
   "outputs": [
    {
     "data": {
      "text/plain": [
       "str"
      ]
     },
     "execution_count": 19,
     "metadata": {},
     "output_type": "execute_result"
    }
   ],
   "source": [
    "type(x)"
   ]
  },
  {
   "cell_type": "code",
   "execution_count": 20,
   "id": "c288bd96-bf45-482c-ba88-b96566f82056",
   "metadata": {},
   "outputs": [],
   "source": [
    "x = int(x)"
   ]
  },
  {
   "cell_type": "code",
   "execution_count": 21,
   "id": "e71072de-7311-4d5f-8aaa-b8bad716188e",
   "metadata": {},
   "outputs": [
    {
     "data": {
      "text/plain": [
       "45"
      ]
     },
     "execution_count": 21,
     "metadata": {},
     "output_type": "execute_result"
    }
   ],
   "source": [
    "x"
   ]
  },
  {
   "cell_type": "code",
   "execution_count": 27,
   "id": "623f55f6-6a23-4a5a-8b75-c28337d8b004",
   "metadata": {},
   "outputs": [
    {
     "data": {
      "text/plain": [
       "int"
      ]
     },
     "execution_count": 27,
     "metadata": {},
     "output_type": "execute_result"
    }
   ],
   "source": [
    "type(x)"
   ]
  },
  {
   "cell_type": "code",
   "execution_count": 22,
   "id": "ec14786c-414c-45d6-949f-741d9c1c98cb",
   "metadata": {},
   "outputs": [],
   "source": [
    "z = 56"
   ]
  },
  {
   "cell_type": "code",
   "execution_count": 23,
   "id": "4cbb80ca-6bc7-4bd3-bf2e-e05aa68eabf5",
   "metadata": {},
   "outputs": [
    {
     "data": {
      "text/plain": [
       "int"
      ]
     },
     "execution_count": 23,
     "metadata": {},
     "output_type": "execute_result"
    }
   ],
   "source": [
    "type(z)"
   ]
  },
  {
   "cell_type": "code",
   "execution_count": 24,
   "id": "4eb74e0a-f52b-41a8-a6aa-ad1dcd1dfaef",
   "metadata": {},
   "outputs": [],
   "source": [
    "z = str(z)"
   ]
  },
  {
   "cell_type": "code",
   "execution_count": 25,
   "id": "27ae032a-9bf0-41e8-8f9f-52619e81d820",
   "metadata": {},
   "outputs": [
    {
     "data": {
      "text/plain": [
       "'56'"
      ]
     },
     "execution_count": 25,
     "metadata": {},
     "output_type": "execute_result"
    }
   ],
   "source": [
    "z"
   ]
  },
  {
   "cell_type": "code",
   "execution_count": 28,
   "id": "aa100d80-6442-4016-8748-6a719a76558c",
   "metadata": {},
   "outputs": [
    {
     "data": {
      "text/plain": [
       "str"
      ]
     },
     "execution_count": 28,
     "metadata": {},
     "output_type": "execute_result"
    }
   ],
   "source": [
    "type(z)"
   ]
  },
  {
   "cell_type": "code",
   "execution_count": 26,
   "id": "f62ed0de-0017-4a56-bfc8-c750add4de4f",
   "metadata": {},
   "outputs": [],
   "source": [
    "a = True"
   ]
  },
  {
   "cell_type": "code",
   "execution_count": 29,
   "id": "1c8ab1fb-93d9-4ba5-9594-2fde0b03b008",
   "metadata": {},
   "outputs": [
    {
     "data": {
      "text/plain": [
       "bool"
      ]
     },
     "execution_count": 29,
     "metadata": {},
     "output_type": "execute_result"
    }
   ],
   "source": [
    "type(a)"
   ]
  },
  {
   "cell_type": "code",
   "execution_count": 30,
   "id": "45e0f2b7-c785-4c2c-bc34-b2d5926f7573",
   "metadata": {},
   "outputs": [],
   "source": [
    "a = str(a)"
   ]
  },
  {
   "cell_type": "code",
   "execution_count": 31,
   "id": "844651fa-d8ca-4785-ae4e-1843e9ce818e",
   "metadata": {},
   "outputs": [
    {
     "data": {
      "text/plain": [
       "'True'"
      ]
     },
     "execution_count": 31,
     "metadata": {},
     "output_type": "execute_result"
    }
   ],
   "source": [
    "a"
   ]
  },
  {
   "cell_type": "code",
   "execution_count": 32,
   "id": "dac6a745-bd76-4eaa-aafc-327625a3229e",
   "metadata": {},
   "outputs": [
    {
     "data": {
      "text/plain": [
       "str"
      ]
     },
     "execution_count": 32,
     "metadata": {},
     "output_type": "execute_result"
    }
   ],
   "source": [
    "type(a)"
   ]
  },
  {
   "cell_type": "code",
   "execution_count": 34,
   "id": "bd75d91f-2a62-4d5d-b11b-05876335ac7e",
   "metadata": {},
   "outputs": [],
   "source": [
    "b = 4.5"
   ]
  },
  {
   "cell_type": "code",
   "execution_count": 35,
   "id": "5f2ec8ed-6319-452a-915b-85039ec49855",
   "metadata": {},
   "outputs": [
    {
     "data": {
      "text/plain": [
       "float"
      ]
     },
     "execution_count": 35,
     "metadata": {},
     "output_type": "execute_result"
    }
   ],
   "source": [
    "type(b)"
   ]
  },
  {
   "cell_type": "code",
   "execution_count": 36,
   "id": "3a9f28c7-eff1-48b7-9a25-9a87bc9b921d",
   "metadata": {},
   "outputs": [],
   "source": [
    "b = str(b)"
   ]
  },
  {
   "cell_type": "code",
   "execution_count": 37,
   "id": "51ed95fb-05e5-4754-a5db-9d08e1fa64bc",
   "metadata": {},
   "outputs": [
    {
     "data": {
      "text/plain": [
       "'4.5'"
      ]
     },
     "execution_count": 37,
     "metadata": {},
     "output_type": "execute_result"
    }
   ],
   "source": [
    "b"
   ]
  },
  {
   "cell_type": "code",
   "execution_count": 38,
   "id": "393bcc59-27e2-4cf2-bee0-339b64dc8403",
   "metadata": {},
   "outputs": [
    {
     "data": {
      "text/plain": [
       "str"
      ]
     },
     "execution_count": 38,
     "metadata": {},
     "output_type": "execute_result"
    }
   ],
   "source": [
    "type(b)"
   ]
  },
  {
   "cell_type": "code",
   "execution_count": 40,
   "id": "1ff4d47c-fa5a-4a82-98ad-43288b249f09",
   "metadata": {},
   "outputs": [],
   "source": [
    "l = [45, 55+6j, 'data' , False , 4.55]"
   ]
  },
  {
   "cell_type": "code",
   "execution_count": 43,
   "id": "83e7a970-064b-4dc1-9aa6-7d64d131ce72",
   "metadata": {},
   "outputs": [
    {
     "data": {
      "text/plain": [
       "{(55+6j), 4.55, 45, False, 'data'}"
      ]
     },
     "execution_count": 43,
     "metadata": {},
     "output_type": "execute_result"
    }
   ],
   "source": [
    "set(l)"
   ]
  },
  {
   "cell_type": "code",
   "execution_count": 44,
   "id": "6d93218c-e066-4708-a65f-81e3632f5937",
   "metadata": {},
   "outputs": [
    {
     "data": {
      "text/plain": [
       "(45, (55+6j), 'data', False, 4.55)"
      ]
     },
     "execution_count": 44,
     "metadata": {},
     "output_type": "execute_result"
    }
   ],
   "source": [
    "tuple(l)"
   ]
  },
  {
   "cell_type": "code",
   "execution_count": 45,
   "id": "bf492a06-ec44-41be-8fdc-dfd500550c45",
   "metadata": {},
   "outputs": [],
   "source": [
    "# Q4"
   ]
  },
  {
   "cell_type": "code",
   "execution_count": 46,
   "id": "d7fe6857-efc5-453c-ad2a-df159587cc71",
   "metadata": {},
   "outputs": [],
   "source": [
    "# Q5"
   ]
  },
  {
   "cell_type": "code",
   "execution_count": 47,
   "id": "a5d331c2-9d1f-4f68-b210-02b7292897cc",
   "metadata": {},
   "outputs": [],
   "source": [
    "my_list = [1, 2, 3, 4, 5]"
   ]
  },
  {
   "cell_type": "code",
   "execution_count": 48,
   "id": "bd682c86-e4b0-487b-8c06-c1b6e33e5d86",
   "metadata": {},
   "outputs": [
    {
     "data": {
      "text/plain": [
       "[2, 3]"
      ]
     },
     "execution_count": 48,
     "metadata": {},
     "output_type": "execute_result"
    }
   ],
   "source": [
    "my_list[1:3:1]"
   ]
  },
  {
   "cell_type": "code",
   "execution_count": 49,
   "id": "b56ed289-ad56-4c35-b029-bcc93a1dfccf",
   "metadata": {},
   "outputs": [],
   "source": [
    "# Q6 "
   ]
  },
  {
   "cell_type": "code",
   "execution_count": 51,
   "id": "27f540ec-8c95-4f7d-8ee6-da921e276446",
   "metadata": {},
   "outputs": [],
   "source": [
    "# ANS - In mathematics, complex number is represented as the combination of real and complex numbers \n",
    "# for example - 4+5i\n",
    "\n",
    "# But in python it is represented as 4+5j i.e, in python we use j instead of i to represent the imaginary part of complex number '''\n"
   ]
  },
  {
   "cell_type": "code",
   "execution_count": 53,
   "id": "8b2b1814-5351-46da-a978-5813a67ad150",
   "metadata": {},
   "outputs": [],
   "source": [
    " z = 12+24j"
   ]
  },
  {
   "cell_type": "code",
   "execution_count": 54,
   "id": "54a05cf1-46f5-4c3d-ae90-c28776cc76b7",
   "metadata": {},
   "outputs": [
    {
     "data": {
      "text/plain": [
       "complex"
      ]
     },
     "execution_count": 54,
     "metadata": {},
     "output_type": "execute_result"
    }
   ],
   "source": [
    "type(z)"
   ]
  },
  {
   "cell_type": "code",
   "execution_count": 55,
   "id": "ed09f912-4f6d-4e75-8e03-bee5b4d304e0",
   "metadata": {},
   "outputs": [],
   "source": [
    "# Q7 "
   ]
  },
  {
   "cell_type": "code",
   "execution_count": 60,
   "id": "f5e7b68b-8698-476e-a285-df581ac026ab",
   "metadata": {},
   "outputs": [
    {
     "data": {
      "text/plain": [
       "True"
      ]
     },
     "execution_count": 60,
     "metadata": {},
     "output_type": "execute_result"
    }
   ],
   "source": [
    "age == 25"
   ]
  },
  {
   "cell_type": "code",
   "execution_count": 62,
   "id": "7d7d44fc-f3ef-4d03-979a-7c325946638f",
   "metadata": {},
   "outputs": [],
   "source": [
    "# Q8"
   ]
  },
  {
   "cell_type": "code",
   "execution_count": 64,
   "id": "e63fc74b-b7f3-47a7-8f58-de6c692a1c7c",
   "metadata": {},
   "outputs": [],
   "source": [
    "price = 9.99"
   ]
  },
  {
   "cell_type": "code",
   "execution_count": 65,
   "id": "45204bcc-6bdb-4b88-b33a-825942000ae3",
   "metadata": {},
   "outputs": [
    {
     "data": {
      "text/plain": [
       "float"
      ]
     },
     "execution_count": 65,
     "metadata": {},
     "output_type": "execute_result"
    }
   ],
   "source": [
    "type(price)"
   ]
  },
  {
   "cell_type": "code",
   "execution_count": 66,
   "id": "08db748e-315a-4148-a35a-371ec915232b",
   "metadata": {},
   "outputs": [],
   "source": [
    "# Q9"
   ]
  },
  {
   "cell_type": "code",
   "execution_count": 67,
   "id": "11cdda36-5867-4e54-8f23-86456ade7474",
   "metadata": {},
   "outputs": [],
   "source": [
    "name = 'tanya chaudhary'"
   ]
  },
  {
   "cell_type": "code",
   "execution_count": 68,
   "id": "79f8df77-820f-45e4-b950-3987ff2502f0",
   "metadata": {},
   "outputs": [
    {
     "name": "stdout",
     "output_type": "stream",
     "text": [
      "tanya chaudhary\n"
     ]
    }
   ],
   "source": [
    "print(name)"
   ]
  },
  {
   "cell_type": "code",
   "execution_count": 70,
   "id": "2ea89652-f21e-4bb1-b122-d795d6157dd9",
   "metadata": {},
   "outputs": [],
   "source": [
    "a = \"Hello, World!\""
   ]
  },
  {
   "cell_type": "code",
   "execution_count": 73,
   "id": "aab1a0f1-dd14-4289-80c7-ec73163d3e31",
   "metadata": {},
   "outputs": [
    {
     "data": {
      "text/plain": [
       "' World!'"
      ]
     },
     "execution_count": 73,
     "metadata": {},
     "output_type": "execute_result"
    }
   ],
   "source": [
    "a[6::]"
   ]
  },
  {
   "cell_type": "code",
   "execution_count": 74,
   "id": "3e4541a4-abe8-4d89-9f4e-2a904998066d",
   "metadata": {},
   "outputs": [],
   "source": [
    "# Q10"
   ]
  },
  {
   "cell_type": "code",
   "execution_count": null,
   "id": "004204e7-4d49-4b66-ab10-6de64283d530",
   "metadata": {},
   "outputs": [],
   "source": [
    "is_student = str(input())\n",
    "if is_student == 'yes':\n",
    "     print('True')\n",
    "    if 'is_student' == 'no' :\n",
    "         print('False')"
   ]
  },
  {
   "cell_type": "code",
   "execution_count": null,
   "id": "f7c5474d-4073-4877-8d82-1185956cca5a",
   "metadata": {},
   "outputs": [],
   "source": []
  }
 ],
 "metadata": {
  "kernelspec": {
   "display_name": "Python 3 (ipykernel)",
   "language": "python",
   "name": "python3"
  },
  "language_info": {
   "codemirror_mode": {
    "name": "ipython",
    "version": 3
   },
   "file_extension": ".py",
   "mimetype": "text/x-python",
   "name": "python",
   "nbconvert_exporter": "python",
   "pygments_lexer": "ipython3",
   "version": "3.10.8"
  }
 },
 "nbformat": 4,
 "nbformat_minor": 5
}
