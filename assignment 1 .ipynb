{
 "cells": [
  {
   "cell_type": "code",
   "execution_count": 2,
   "id": "7efef35b-bd5e-4503-9a02-3cb37e4b725a",
   "metadata": {},
   "outputs": [],
   "source": [
    "# Q1 - a"
   ]
  },
  {
   "cell_type": "code",
   "execution_count": 12,
   "id": "44fa174b-70b6-42c0-a25b-3b25b5d9cf2b",
   "metadata": {},
   "outputs": [],
   "source": [
    "a = 'tanya'"
   ]
  },
  {
   "cell_type": "code",
   "execution_count": 13,
   "id": "7997aae9-2877-468d-afcb-2cc9af0a04ce",
   "metadata": {},
   "outputs": [
    {
     "data": {
      "text/plain": [
       "str"
      ]
     },
     "execution_count": 13,
     "metadata": {},
     "output_type": "execute_result"
    }
   ],
   "source": [
    "type(a)"
   ]
  },
  {
   "cell_type": "code",
   "execution_count": 1,
   "id": "4b4ed19d-a7e4-4249-9758-470fb2246bc5",
   "metadata": {},
   "outputs": [],
   "source": [
    "# Q1 - b"
   ]
  },
  {
   "cell_type": "code",
   "execution_count": 5,
   "id": "628ab317-ba17-432c-ac41-9ebbf96083a6",
   "metadata": {},
   "outputs": [],
   "source": [
    "b = [45.678, 'tanya' , 1,2,3, 7 + 8j, True , False ]"
   ]
  },
  {
   "cell_type": "code",
   "execution_count": 6,
   "id": "d8b53922-0b61-4fd9-85f9-4d5a63d2ce85",
   "metadata": {},
   "outputs": [
    {
     "data": {
      "text/plain": [
       "list"
      ]
     },
     "execution_count": 6,
     "metadata": {},
     "output_type": "execute_result"
    }
   ],
   "source": [
    "type(b)"
   ]
  },
  {
   "cell_type": "code",
   "execution_count": 2,
   "id": "ab65d697-f218-4ffc-b18c-aa41851d5706",
   "metadata": {},
   "outputs": [],
   "source": [
    "# Q1 - c"
   ]
  },
  {
   "cell_type": "code",
   "execution_count": 7,
   "id": "c8a1b7e6-4b03-43d9-93c6-80a1aa728bff",
   "metadata": {},
   "outputs": [],
   "source": [
    "c = 67.897"
   ]
  },
  {
   "cell_type": "code",
   "execution_count": 8,
   "id": "4905d361-541e-4a7f-87f4-5d68fd7532ce",
   "metadata": {},
   "outputs": [
    {
     "data": {
      "text/plain": [
       "float"
      ]
     },
     "execution_count": 8,
     "metadata": {},
     "output_type": "execute_result"
    }
   ],
   "source": [
    "type(c)"
   ]
  },
  {
   "cell_type": "code",
   "execution_count": 3,
   "id": "33123c97-a61c-40c0-a01d-15b4ec713cd5",
   "metadata": {},
   "outputs": [],
   "source": [
    "#Q1 - d"
   ]
  },
  {
   "cell_type": "code",
   "execution_count": 9,
   "id": "334260e0-582a-41f5-9e39-7f30b673a9a3",
   "metadata": {},
   "outputs": [],
   "source": [
    "d = 45,6.7,10"
   ]
  },
  {
   "cell_type": "code",
   "execution_count": 10,
   "id": "d4649ddd-037c-4cdc-a40d-dd853f862ee7",
   "metadata": {},
   "outputs": [
    {
     "data": {
      "text/plain": [
       "tuple"
      ]
     },
     "execution_count": 10,
     "metadata": {},
     "output_type": "execute_result"
    }
   ],
   "source": [
    "type(d)"
   ]
  },
  {
   "cell_type": "code",
   "execution_count": 4,
   "id": "dd802396-f01d-4190-838a-5390c578406c",
   "metadata": {},
   "outputs": [],
   "source": [
    "# Q2 - a"
   ]
  },
  {
   "cell_type": "code",
   "execution_count": 11,
   "id": "4436899e-d6a0-42f3-a265-a3e419791678",
   "metadata": {},
   "outputs": [],
   "source": [
    "var1 = ' '"
   ]
  },
  {
   "cell_type": "code",
   "execution_count": 12,
   "id": "b24ee71d-2c4e-4462-9d43-481682409f13",
   "metadata": {},
   "outputs": [
    {
     "data": {
      "text/plain": [
       "str"
      ]
     },
     "execution_count": 12,
     "metadata": {},
     "output_type": "execute_result"
    }
   ],
   "source": [
    "type(var1)"
   ]
  },
  {
   "cell_type": "code",
   "execution_count": 5,
   "id": "0c178cac-d586-4b5a-9b40-ef00aebe1d43",
   "metadata": {},
   "outputs": [],
   "source": [
    "# Q2 - b"
   ]
  },
  {
   "cell_type": "code",
   "execution_count": 13,
   "id": "4e39b244-b45e-4a0d-9268-f7661eeca4b9",
   "metadata": {},
   "outputs": [],
   "source": [
    "var2 = '[DS , ML , Python]'"
   ]
  },
  {
   "cell_type": "code",
   "execution_count": 14,
   "id": "a4c56633-bbc8-4c14-adbd-ffa338966f9a",
   "metadata": {},
   "outputs": [
    {
     "data": {
      "text/plain": [
       "str"
      ]
     },
     "execution_count": 14,
     "metadata": {},
     "output_type": "execute_result"
    }
   ],
   "source": [
    "type(var2)"
   ]
  },
  {
   "cell_type": "code",
   "execution_count": null,
   "id": "e0f92c1d-6ecd-4624-8255-f606a1f371ad",
   "metadata": {},
   "outputs": [],
   "source": [
    "# Q2 - c "
   ]
  },
  {
   "cell_type": "code",
   "execution_count": 15,
   "id": "80fdf4b3-52f5-45fb-82ce-9d1642f0ee8b",
   "metadata": {},
   "outputs": [],
   "source": [
    "var3 = ['DS' , 'MS' , 'Python']"
   ]
  },
  {
   "cell_type": "code",
   "execution_count": 16,
   "id": "0e2b5cf5-6e89-4964-a840-162e29bfe181",
   "metadata": {},
   "outputs": [
    {
     "data": {
      "text/plain": [
       "list"
      ]
     },
     "execution_count": 16,
     "metadata": {},
     "output_type": "execute_result"
    }
   ],
   "source": [
    "type(var3)"
   ]
  },
  {
   "cell_type": "code",
   "execution_count": 6,
   "id": "b02270af-2ee1-4b5c-92b6-a43e98f43dcb",
   "metadata": {},
   "outputs": [],
   "source": [
    "# Q2 - d"
   ]
  },
  {
   "cell_type": "code",
   "execution_count": 17,
   "id": "46add3c1-ed36-40a0-85c2-3e2bc814cdec",
   "metadata": {},
   "outputs": [],
   "source": [
    "var4 = 1"
   ]
  },
  {
   "cell_type": "code",
   "execution_count": 18,
   "id": "dee3a35c-0c5e-4256-ba20-350c1840c67f",
   "metadata": {},
   "outputs": [
    {
     "data": {
      "text/plain": [
       "int"
      ]
     },
     "execution_count": 18,
     "metadata": {},
     "output_type": "execute_result"
    }
   ],
   "source": [
    "type(var4)"
   ]
  },
  {
   "cell_type": "code",
   "execution_count": 7,
   "id": "0ab8f5da-6791-4f27-80ff-b9ab82a9a6fd",
   "metadata": {},
   "outputs": [],
   "source": [
    "# Q3 - a "
   ]
  },
  {
   "cell_type": "code",
   "execution_count": null,
   "id": "5f2a5f84-315f-4106-b5b6-49246cc85cf4",
   "metadata": {},
   "outputs": [],
   "source": [
    "# ANS - division operator"
   ]
  },
  {
   "cell_type": "code",
   "execution_count": 19,
   "id": "f7c23bc5-1323-4b1c-b6f8-c29e0b121227",
   "metadata": {},
   "outputs": [
    {
     "data": {
      "text/plain": [
       "8.0"
      ]
     },
     "execution_count": 19,
     "metadata": {},
     "output_type": "execute_result"
    }
   ],
   "source": [
    "64/8"
   ]
  },
  {
   "cell_type": "code",
   "execution_count": 8,
   "id": "c7c57127-92a8-4825-9441-df9c73c48881",
   "metadata": {},
   "outputs": [],
   "source": [
    "# Q3 - b "
   ]
  },
  {
   "cell_type": "code",
   "execution_count": null,
   "id": "0be6b467-05d0-4a7e-9b73-9dfe2d0d8c2d",
   "metadata": {},
   "outputs": [],
   "source": [
    "# ANS - remainder operator"
   ]
  },
  {
   "cell_type": "code",
   "execution_count": 20,
   "id": "05b549c0-8aa2-4724-80e5-7444b5ea0e20",
   "metadata": {},
   "outputs": [
    {
     "data": {
      "text/plain": [
       "0"
      ]
     },
     "execution_count": 20,
     "metadata": {},
     "output_type": "execute_result"
    }
   ],
   "source": [
    "16%4"
   ]
  },
  {
   "cell_type": "code",
   "execution_count": null,
   "id": "a00b0338-649f-4087-9628-00fcf67856d8",
   "metadata": {},
   "outputs": [],
   "source": [
    "# Q3 - c"
   ]
  },
  {
   "cell_type": "code",
   "execution_count": null,
   "id": "059cab41-fdec-4d1a-bae6-c45ab3e6cba5",
   "metadata": {},
   "outputs": [],
   "source": [
    "# ANS - "
   ]
  },
  {
   "cell_type": "code",
   "execution_count": 23,
   "id": "d9e7bdd1-6e24-45db-9749-a5b7a7946092",
   "metadata": {},
   "outputs": [
    {
     "data": {
      "text/plain": [
       "13"
      ]
     },
     "execution_count": 23,
     "metadata": {},
     "output_type": "execute_result"
    }
   ],
   "source": [
    "52//4"
   ]
  },
  {
   "cell_type": "code",
   "execution_count": 9,
   "id": "1275bf47-70b8-4809-bd8a-585188e3d30d",
   "metadata": {},
   "outputs": [],
   "source": [
    "# Q3 - d"
   ]
  },
  {
   "cell_type": "code",
   "execution_count": null,
   "id": "26fa02e3-941e-4447-a3a8-5b7fc5e6a669",
   "metadata": {},
   "outputs": [],
   "source": [
    "# ANS - power operator"
   ]
  },
  {
   "cell_type": "code",
   "execution_count": 24,
   "id": "52126e50-fa82-4849-be05-409897fffe7b",
   "metadata": {},
   "outputs": [
    {
     "data": {
      "text/plain": [
       "25"
      ]
     },
     "execution_count": 24,
     "metadata": {},
     "output_type": "execute_result"
    }
   ],
   "source": [
    "5**2"
   ]
  },
  {
   "cell_type": "code",
   "execution_count": 10,
   "id": "92bbe332-da62-42f7-953c-52e1071d614e",
   "metadata": {},
   "outputs": [],
   "source": [
    "# QUES. 4 "
   ]
  },
  {
   "cell_type": "code",
   "execution_count": 26,
   "id": "09b89786-bb05-4442-bec6-58548ca3a892",
   "metadata": {},
   "outputs": [
    {
     "name": "stdout",
     "output_type": "stream",
     "text": [
      "<class 'int'>\n",
      "1\n",
      "<class 'int'>\n",
      "2\n",
      "<class 'int'>\n",
      "3\n",
      "<class 'int'>\n",
      "4\n",
      "<class 'str'>\n",
      "tanya\n",
      "<class 'float'>\n",
      "12.34\n",
      "<class 'bool'>\n",
      "True\n",
      "<class 'bool'>\n",
      "False\n",
      "<class 'complex'>\n",
      "(6+7j)\n",
      "<class 'str'>\n",
      "pw\n"
     ]
    }
   ],
   "source": [
    "l = [1,2,3,4,'tanya',12.34,True, False, 6+7j, \"pw\",]\n",
    "for n in l :\n",
    "    print(type(n))\n",
    "    print(n)"
   ]
  },
  {
   "cell_type": "code",
   "execution_count": null,
   "id": "ee9bd21f-e501-4adc-9025-0d6190432fdb",
   "metadata": {},
   "outputs": [],
   "source": [
    "# QUES.5 "
   ]
  },
  {
   "cell_type": "code",
   "execution_count": 21,
   "id": "1666fcfc-29c5-40db-8af5-ac063ccec1dc",
   "metadata": {},
   "outputs": [],
   "source": [
    "A = 46\n",
    "B = 3\n",
    "while A % B == 0 :\n",
    "    print()"
   ]
  },
  {
   "cell_type": "code",
   "execution_count": 22,
   "id": "005ef200-1d1d-443e-bd66-e2b4c82ab38e",
   "metadata": {},
   "outputs": [],
   "source": [
    "# QUES.6"
   ]
  },
  {
   "cell_type": "code",
   "execution_count": 23,
   "id": "743b6952-ea83-499d-a9ee-9133bcfcfafb",
   "metadata": {},
   "outputs": [
    {
     "data": {
      "text/plain": [
       "[0,\n",
       " 1,\n",
       " 2,\n",
       " 3,\n",
       " 4,\n",
       " 5,\n",
       " 6,\n",
       " 7,\n",
       " 8,\n",
       " 9,\n",
       " 10,\n",
       " 11,\n",
       " 12,\n",
       " 13,\n",
       " 14,\n",
       " 15,\n",
       " 16,\n",
       " 17,\n",
       " 18,\n",
       " 19,\n",
       " 20,\n",
       " 21,\n",
       " 22,\n",
       " 23,\n",
       " 24]"
      ]
     },
     "execution_count": 23,
     "metadata": {},
     "output_type": "execute_result"
    }
   ],
   "source": [
    "list(range(25))"
   ]
  },
  {
   "cell_type": "code",
   "execution_count": 24,
   "id": "cb485017-f1f7-4dee-a651-464c2d76572e",
   "metadata": {},
   "outputs": [],
   "source": [
    "# QUES. 7 "
   ]
  },
  {
   "cell_type": "code",
   "execution_count": 25,
   "id": "c7261efb-484c-4c27-a258-16e5175c4bb7",
   "metadata": {},
   "outputs": [],
   "source": [
    "# ANS - when we can make changes at any particular index then it is called mutable variable"
   ]
  },
  {
   "cell_type": "code",
   "execution_count": 7,
   "id": "0b3512e3-8c6b-48e1-9445-b514d30ab96e",
   "metadata": {},
   "outputs": [],
   "source": [
    "l = [ 1,22,46, 46.78, 5+6j , 'tanya']"
   ]
  },
  {
   "cell_type": "code",
   "execution_count": 8,
   "id": "53583fab-bc06-488b-a5bc-99aa1de8c41b",
   "metadata": {},
   "outputs": [],
   "source": [
    "l[1] = 33"
   ]
  },
  {
   "cell_type": "code",
   "execution_count": 9,
   "id": "229fc595-b78e-4e3a-9f4d-000d0cadfd6d",
   "metadata": {},
   "outputs": [
    {
     "data": {
      "text/plain": [
       "[1, 33, 46, 46.78, (5+6j), 'tanya']"
      ]
     },
     "execution_count": 28,
     "metadata": {},
     "output_type": "execute_result"
    }
   ],
   "source": [
    "l"
   ]
  },
  {
   "cell_type": "code",
   "execution_count": null,
   "id": "2fa11263-cd32-4f4b-95bf-14f80c8a3461",
   "metadata": {},
   "outputs": [],
   "source": []
  },
  {
   "cell_type": "code",
   "execution_count": 10,
   "id": "cdbafac4-0085-41a7-9f11-543f90fd87df",
   "metadata": {},
   "outputs": [],
   "source": [
    "# ANS -  when we can't change the particular index then its called imutable variable"
   ]
  },
  {
   "cell_type": "code",
   "execution_count": 11,
   "id": "dd62cbb2-5fdd-4681-a562-04d6dc9c1aff",
   "metadata": {},
   "outputs": [],
   "source": [
    "x = 'tanya'"
   ]
  },
  {
   "cell_type": "code",
   "execution_count": 15,
   "id": "6bc2577e-1b1a-458a-8b28-dde92954a367",
   "metadata": {},
   "outputs": [
    {
     "ename": "NameError",
     "evalue": "name 's' is not defined",
     "output_type": "error",
     "traceback": [
      "\u001b[0;31m---------------------------------------------------------------------------\u001b[0m",
      "\u001b[0;31mNameError\u001b[0m                                 Traceback (most recent call last)",
      "Cell \u001b[0;32mIn[31], line 1\u001b[0m\n\u001b[0;32m----> 1\u001b[0m x[\u001b[38;5;241m2\u001b[39m] \u001b[38;5;241m=\u001b[39m \u001b[43ms\u001b[49m\n",
      "\u001b[0;31mNameError\u001b[0m: name 's' is not defined"
     ]
    }
   ],
   "source": [
    "x[2] = s"
   ]
  },
  {
   "cell_type": "code",
   "execution_count": null,
   "id": "60cdcc3e-181f-4096-a9c2-16123fad6b29",
   "metadata": {},
   "outputs": [],
   "source": []
  }
 ],
 "metadata": {
  "kernelspec": {
   "display_name": "Python 3 (ipykernel)",
   "language": "python",
   "name": "python3"
  },
  "language_info": {
   "codemirror_mode": {
    "name": "ipython",
    "version": 3
   },
   "file_extension": ".py",
   "mimetype": "text/x-python",
   "name": "python",
   "nbconvert_exporter": "python",
   "pygments_lexer": "ipython3",
   "version": "3.10.8"
  }
 },
 "nbformat": 4,
 "nbformat_minor": 5
}
